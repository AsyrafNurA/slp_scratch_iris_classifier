{
  "nbformat": 4,
  "nbformat_minor": 0,
  "metadata": {
    "colab": {
      "provenance": [],
      "mount_file_id": "1CpIJ40H0AR8Rx718X0txnms4uOn_8Pkr",
      "authorship_tag": "ABX9TyPWO5wZiD+iWNK9DjDWEUEI",
      "include_colab_link": true
    },
    "kernelspec": {
      "name": "python3",
      "display_name": "Python 3"
    },
    "language_info": {
      "name": "python"
    }
  },
  "cells": [
    {
      "cell_type": "markdown",
      "metadata": {
        "id": "view-in-github",
        "colab_type": "text"
      },
      "source": [
        "<a href=\"https://colab.research.google.com/github/AsyrafNurA/slp_scratch_iris_classifier/blob/main/SLP_scratch_code.ipynb\" target=\"_parent\"><img src=\"https://colab.research.google.com/assets/colab-badge.svg\" alt=\"Open In Colab\"/></a>"
      ]
    },
    {
      "cell_type": "markdown",
      "source": [
        "**Deep Learning: Implementing Single Layer Perceptron Classification Model for Iris Dataset**\n",
        "\n",
        "By:\n",
        "\n",
        "Asyraf Nur Ardliansyah\n",
        "\n",
        "22/497649/PA/21439"
      ],
      "metadata": {
        "id": "zt2gqSiFOpCr"
      }
    },
    {
      "cell_type": "markdown",
      "source": [
        "Notes:\n",
        "\n",
        "To ensure that the code can be read easier, I've given necessary comments in almost every code blocks, so that the readers could understand about what happens in that corresponding line/area."
      ],
      "metadata": {
        "id": "KlsIQI_wQtJ6"
      }
    },
    {
      "cell_type": "markdown",
      "source": [
        "# Model's Function Defining"
      ],
      "metadata": {
        "id": "1701_ASHCUCT"
      }
    },
    {
      "cell_type": "code",
      "execution_count": null,
      "metadata": {
        "id": "XTbTGqK6agbY"
      },
      "outputs": [],
      "source": [
        "# Importing necessary libraries\n",
        "import pandas as pd\n",
        "import matplotlib.pyplot as plt"
      ]
    },
    {
      "cell_type": "code",
      "source": [
        "# Sum of Multiplication or Feedforward\n",
        "def result(x1, t1, x2, t2, x3, t3, x4, t4, bias):\n",
        "  return x1*t1 + x2*t2 + x3*t3 + x4*t4 + bias"
      ],
      "metadata": {
        "id": "GMWZ6LGPcDtY"
      },
      "execution_count": null,
      "outputs": []
    },
    {
      "cell_type": "code",
      "source": [
        "# Sigmoid Function\n",
        "def sigmoid(x):\n",
        "  return 1 / (1 + math.exp(-x))"
      ],
      "metadata": {
        "id": "FiNj4V4fcZkC"
      },
      "execution_count": null,
      "outputs": []
    },
    {
      "cell_type": "code",
      "source": [
        "# Prediction\n",
        "def predict(x, threshold):\n",
        "  return 1 if x >= threshold else 0"
      ],
      "metadata": {
        "id": "PvQIKD9YczEP"
      },
      "execution_count": null,
      "outputs": []
    },
    {
      "cell_type": "code",
      "source": [
        "# Error\n",
        "def error(act, target):\n",
        "  return (act - target)"
      ],
      "metadata": {
        "id": "d_I-TdoidDTx"
      },
      "execution_count": null,
      "outputs": []
    },
    {
      "cell_type": "code",
      "source": [
        "# Values Change\n",
        "\n",
        "# dt1\n",
        "def count_dt1(x1, act, class_fact):\n",
        "  return 2 * (act - class_fact) * (1 - act) * act * x1\n",
        "\n",
        "# dt2\n",
        "def count_dt2(x2, act, class_fact):\n",
        "  return 2 * (act - class_fact) * (1 - act) * act * x2\n",
        "\n",
        "# dt3\n",
        "def count_dt3(x3, act, class_fact):\n",
        "  return 2 * (act - class_fact) * (1 - act) * act * x3\n",
        "\n",
        "# dt4\n",
        "def count_dt4(x4, act, class_fact):\n",
        "  return 2 * (act - class_fact) * (1 - act) * act * x4\n",
        "\n",
        "# db\n",
        "def count_db(act, class_fact):\n",
        "  return 2 * (act - class_fact) * (1 - act) * act"
      ],
      "metadata": {
        "id": "ql7bmIrq_eB2"
      },
      "execution_count": null,
      "outputs": []
    },
    {
      "cell_type": "code",
      "source": [
        "# Update Function\n",
        "\n",
        "# t1\n",
        "def update_t1(t1, dt1, learn_rate):\n",
        "  return t1 - learn_rate*dt1\n",
        "\n",
        "# t2\n",
        "def update_t2(t2, dt2, learn_rate):\n",
        "  return t2 - learn_rate*dt2\n",
        "\n",
        "# t3\n",
        "def update_t3(t3, dt3, learn_rate):\n",
        "  return t3 - learn_rate*dt3\n",
        "\n",
        "# t4\n",
        "def update_t4(t4, dt4, learn_rate):\n",
        "  return t4 - learn_rate*dt4\n",
        "\n",
        "# bias\n",
        "def update_bias(bias, db, learn_rate):\n",
        "  return bias - learn_rate*db"
      ],
      "metadata": {
        "id": "GNK6Lgi5dXuU"
      },
      "execution_count": null,
      "outputs": []
    },
    {
      "cell_type": "code",
      "source": [
        "# Object Classifier\n",
        "def classify(x1, t1, x2, t2, x3, t3, x4, t4, bias, class_fact, learn_rate, threshold):\n",
        "\n",
        "  # Getting Sum of Multiplication\n",
        "  som = result(x1, t1, x2, t2, x3, t3, x4, t4, bias)\n",
        "\n",
        "  # Activation\n",
        "  act = round(sigmoid(som), 10)\n",
        "\n",
        "  # Class Prediction\n",
        "  class_prediction = predict(act, threshold)\n",
        "\n",
        "  # Error\n",
        "  err = error(act, class_fact)\n",
        "\n",
        "  # Is it correct or not\n",
        "  correct = 1 if class_prediction == class_fact else 0\n",
        "\n",
        "  # Notes: Round function is used in order to makes the model's values could be as same as those in the spreadsheets\n",
        "  # Updating the weights\n",
        "  t1 = round(update_t1(t1, count_dt1(x1, act, class_fact), learn_rate), 10)\n",
        "  t2 = round(update_t2(t2, count_dt2(x2, act, class_fact), learn_rate), 10)\n",
        "  t3 = round(update_t3(t3, count_dt3(x3, act, class_fact), learn_rate), 10)\n",
        "  t4 = round(update_t4(t4, count_dt4(x4, act, class_fact), learn_rate), 10)\n",
        "  bias = round(update_bias(bias, count_db(act, class_fact), learn_rate), 10)\n",
        "\n",
        "  return t1, t2, t3, t4, bias, correct, err"
      ],
      "metadata": {
        "id": "bZGRh7tw7pQn"
      },
      "execution_count": null,
      "outputs": []
    },
    {
      "cell_type": "code",
      "source": [
        "# Isn't be used. Just for testing in when making the epoch function\n",
        "\n",
        "# Batch Classification\n",
        "def batch_classification(batch, init_t, learn_rate, threshold):\n",
        "  t1, t2, t3, t4, bias = init_t[\"t1\"], init_t[\"t2\"], init_t[\"t3\"], init_t[\"t4\"], init_t[\"bias\"]\n",
        "\n",
        "  for i in range(batch.shape[0]):\n",
        "    x1, x2, x3, x4, class_fact = batch.iloc[i, 0], batch.iloc[i, 1], batch.iloc[i, 2], batch.iloc[i, 3], batch.iloc[i, 5]\n",
        "\n",
        "    t1, t2, t3, t4, bias, correct, err = classify(x1, t1, x2, t2, x3, t3, x4, t4, bias, class_fact, learn_rate, threshold)\n",
        "\n",
        "  return t1, t2, t3, t4, bias"
      ],
      "metadata": {
        "id": "PSiHAKoVA2fT"
      },
      "execution_count": null,
      "outputs": []
    },
    {
      "cell_type": "code",
      "source": [
        "# Epoch Function\n",
        "def epoch(batch, init_t, learn_rate, threshold, epochs):\n",
        "\n",
        "  # Assigning values\n",
        "  t1, t2, t3, t4, bias = init_t[\"t1\"], init_t[\"t2\"], init_t[\"t3\"], init_t[\"t4\"], init_t[\"bias\"]\n",
        "\n",
        "  # List for storing informations from each epoch\n",
        "  epochs_acc = []\n",
        "\n",
        "  epochs_mse = []\n",
        "\n",
        "  # Epochs\n",
        "  for i in range(epochs):\n",
        "\n",
        "    # List and variable for storing informations from each batch\n",
        "    current_tp = 0\n",
        "\n",
        "    current_err = []\n",
        "\n",
        "    # Batch\n",
        "    for j in range(batch.shape[0]):\n",
        "\n",
        "      # Assigning values\n",
        "      x1, x2, x3, x4, class_fact = batch.iloc[j, 0], batch.iloc[j, 1], batch.iloc[j, 2], batch.iloc[j, 3], batch.iloc[j, 5]\n",
        "\n",
        "      # Classification and update all weights\n",
        "      t1, t2, t3, t4, bias, correct, err = classify(x1, t1, x2, t2, x3, t3, x4, t4, bias, class_fact, learn_rate, threshold)\n",
        "\n",
        "      # True Positive\n",
        "      if correct == 1:\n",
        "        current_tp += 1\n",
        "\n",
        "      # Error\n",
        "      current_err.append(err)\n",
        "\n",
        "    # MSE\n",
        "    current_mse = (sum(map(lambda x: x**2, current_err)) / len(current_err))\n",
        "\n",
        "    # Storing the informations into corresponding list\n",
        "    epochs_mse.append(current_mse)\n",
        "\n",
        "    epochs_acc.append(current_tp / batch.shape[0])\n",
        "\n",
        "  return t1, t2, t3, t4, bias, epochs_acc, epochs_mse"
      ],
      "metadata": {
        "id": "mcThNTl9eZPE"
      },
      "execution_count": null,
      "outputs": []
    },
    {
      "cell_type": "markdown",
      "source": [
        "# Data Preprocessing"
      ],
      "metadata": {
        "id": "wzqlMRiYCPJa"
      }
    },
    {
      "cell_type": "code",
      "source": [
        "# Data Splitting\n",
        "def split(df, ratio):\n",
        "  train = df.iloc[:int(ratio * df.shape[0])]\n",
        "  test = df.drop(train.index)\n",
        "\n",
        "  return train, test"
      ],
      "metadata": {
        "id": "2sKxrUD-Rt02"
      },
      "execution_count": null,
      "outputs": []
    },
    {
      "cell_type": "markdown",
      "source": [
        "# Model Testing\n",
        "\n",
        "Make sure that the algorithm could goes well."
      ],
      "metadata": {
        "id": "ZJ_F1HreRnv6"
      }
    },
    {
      "cell_type": "code",
      "source": [
        "# Test Algorithm\n",
        "\n",
        "# test_object = {\n",
        "#     \"x1\": 5.1,\n",
        "#     \"x2\": 3.5,\n",
        "#     \"x3\": 1.4,\n",
        "#     \"x4\": 0.2,\n",
        "#     \"class\": 0\n",
        "# }\n",
        "\n",
        "# init_t = {\n",
        "#     \"t1\": 0.5,\n",
        "#     \"t2\": 0.8,\n",
        "#     \"t3\": 0.7,\n",
        "#     \"t4\": 0.3,\n",
        "#     \"bias\": 0.5\n",
        "# }\n",
        "\n",
        "# learn_rate = 0.1\n",
        "# threshold = 0.5\n",
        "\n",
        "# t1, t2, t3, t4, bias = classify(test_object[\"x1\"], init_t[\"t1\"], test_object[\"x2\"], init_t[\"t2\"], test_object[\"x3\"], init_t[\"t3\"], test_object[\"x4\"], init_t[\"t4\"], init_t[\"bias\"], test_object[\"class\"], learn_rate, threshold)\n",
        "\n",
        "# print(t1, t2, t3, t4, bias)"
      ],
      "metadata": {
        "id": "Q0lWM4dOsgYe"
      },
      "execution_count": null,
      "outputs": []
    },
    {
      "cell_type": "markdown",
      "source": [
        "# Load the Dataset and Preprocessing"
      ],
      "metadata": {
        "id": "6laqutyGOZA9"
      }
    },
    {
      "cell_type": "code",
      "source": [
        "from google.colab import drive\n",
        "drive.mount('/content/drive')"
      ],
      "metadata": {
        "colab": {
          "base_uri": "https://localhost:8080/"
        },
        "id": "oKFPq1zPCbe_",
        "outputId": "9e512480-70e4-4984-dc63-616810fd3255"
      },
      "execution_count": null,
      "outputs": [
        {
          "output_type": "stream",
          "name": "stdout",
          "text": [
            "Drive already mounted at /content/drive; to attempt to forcibly remount, call drive.mount(\"/content/drive\", force_remount=True).\n"
          ]
        }
      ]
    },
    {
      "cell_type": "code",
      "source": [
        "# Load Training Dataset\n",
        "train = pd.read_csv('/content/drive/MyDrive/Semester 5/Deep Learning/iris_deep-learning.csv')\n",
        "train['code'] = train['class_name'].map({'Iris-setosa': 0, 'Iris-virginica': 1})\n",
        "\n",
        "train"
      ],
      "metadata": {
        "colab": {
          "base_uri": "https://localhost:8080/",
          "height": 423
        },
        "id": "6V5Mz385flqJ",
        "outputId": "b9625f7f-4346-4a10-f5fe-4c40ec7c5bde"
      },
      "execution_count": null,
      "outputs": [
        {
          "output_type": "execute_result",
          "data": {
            "text/plain": [
              "    sepal_length  sepal_width  petal_length  petal_width      class_name  code\n",
              "0            5.1          3.5           1.4          0.2     Iris-setosa     0\n",
              "1            4.9          3.0           1.4          0.2     Iris-setosa     0\n",
              "2            4.7          3.2           1.3          0.2     Iris-setosa     0\n",
              "3            4.6          3.1           1.5          0.2     Iris-setosa     0\n",
              "4            5.0          3.6           1.4          0.2     Iris-setosa     0\n",
              "..           ...          ...           ...          ...             ...   ...\n",
              "75           7.7          3.0           6.1          2.3  Iris-virginica     1\n",
              "76           6.3          3.4           5.6          2.4  Iris-virginica     1\n",
              "77           6.4          3.1           5.5          1.8  Iris-virginica     1\n",
              "78           6.0          3.0           4.8          1.8  Iris-virginica     1\n",
              "79           6.9          3.1           5.4          2.1  Iris-virginica     1\n",
              "\n",
              "[80 rows x 6 columns]"
            ],
            "text/html": [
              "\n",
              "  <div id=\"df-012bef6c-2bb4-4298-8763-659a6897a929\" class=\"colab-df-container\">\n",
              "    <div>\n",
              "<style scoped>\n",
              "    .dataframe tbody tr th:only-of-type {\n",
              "        vertical-align: middle;\n",
              "    }\n",
              "\n",
              "    .dataframe tbody tr th {\n",
              "        vertical-align: top;\n",
              "    }\n",
              "\n",
              "    .dataframe thead th {\n",
              "        text-align: right;\n",
              "    }\n",
              "</style>\n",
              "<table border=\"1\" class=\"dataframe\">\n",
              "  <thead>\n",
              "    <tr style=\"text-align: right;\">\n",
              "      <th></th>\n",
              "      <th>sepal_length</th>\n",
              "      <th>sepal_width</th>\n",
              "      <th>petal_length</th>\n",
              "      <th>petal_width</th>\n",
              "      <th>class_name</th>\n",
              "      <th>code</th>\n",
              "    </tr>\n",
              "  </thead>\n",
              "  <tbody>\n",
              "    <tr>\n",
              "      <th>0</th>\n",
              "      <td>5.1</td>\n",
              "      <td>3.5</td>\n",
              "      <td>1.4</td>\n",
              "      <td>0.2</td>\n",
              "      <td>Iris-setosa</td>\n",
              "      <td>0</td>\n",
              "    </tr>\n",
              "    <tr>\n",
              "      <th>1</th>\n",
              "      <td>4.9</td>\n",
              "      <td>3.0</td>\n",
              "      <td>1.4</td>\n",
              "      <td>0.2</td>\n",
              "      <td>Iris-setosa</td>\n",
              "      <td>0</td>\n",
              "    </tr>\n",
              "    <tr>\n",
              "      <th>2</th>\n",
              "      <td>4.7</td>\n",
              "      <td>3.2</td>\n",
              "      <td>1.3</td>\n",
              "      <td>0.2</td>\n",
              "      <td>Iris-setosa</td>\n",
              "      <td>0</td>\n",
              "    </tr>\n",
              "    <tr>\n",
              "      <th>3</th>\n",
              "      <td>4.6</td>\n",
              "      <td>3.1</td>\n",
              "      <td>1.5</td>\n",
              "      <td>0.2</td>\n",
              "      <td>Iris-setosa</td>\n",
              "      <td>0</td>\n",
              "    </tr>\n",
              "    <tr>\n",
              "      <th>4</th>\n",
              "      <td>5.0</td>\n",
              "      <td>3.6</td>\n",
              "      <td>1.4</td>\n",
              "      <td>0.2</td>\n",
              "      <td>Iris-setosa</td>\n",
              "      <td>0</td>\n",
              "    </tr>\n",
              "    <tr>\n",
              "      <th>...</th>\n",
              "      <td>...</td>\n",
              "      <td>...</td>\n",
              "      <td>...</td>\n",
              "      <td>...</td>\n",
              "      <td>...</td>\n",
              "      <td>...</td>\n",
              "    </tr>\n",
              "    <tr>\n",
              "      <th>75</th>\n",
              "      <td>7.7</td>\n",
              "      <td>3.0</td>\n",
              "      <td>6.1</td>\n",
              "      <td>2.3</td>\n",
              "      <td>Iris-virginica</td>\n",
              "      <td>1</td>\n",
              "    </tr>\n",
              "    <tr>\n",
              "      <th>76</th>\n",
              "      <td>6.3</td>\n",
              "      <td>3.4</td>\n",
              "      <td>5.6</td>\n",
              "      <td>2.4</td>\n",
              "      <td>Iris-virginica</td>\n",
              "      <td>1</td>\n",
              "    </tr>\n",
              "    <tr>\n",
              "      <th>77</th>\n",
              "      <td>6.4</td>\n",
              "      <td>3.1</td>\n",
              "      <td>5.5</td>\n",
              "      <td>1.8</td>\n",
              "      <td>Iris-virginica</td>\n",
              "      <td>1</td>\n",
              "    </tr>\n",
              "    <tr>\n",
              "      <th>78</th>\n",
              "      <td>6.0</td>\n",
              "      <td>3.0</td>\n",
              "      <td>4.8</td>\n",
              "      <td>1.8</td>\n",
              "      <td>Iris-virginica</td>\n",
              "      <td>1</td>\n",
              "    </tr>\n",
              "    <tr>\n",
              "      <th>79</th>\n",
              "      <td>6.9</td>\n",
              "      <td>3.1</td>\n",
              "      <td>5.4</td>\n",
              "      <td>2.1</td>\n",
              "      <td>Iris-virginica</td>\n",
              "      <td>1</td>\n",
              "    </tr>\n",
              "  </tbody>\n",
              "</table>\n",
              "<p>80 rows × 6 columns</p>\n",
              "</div>\n",
              "    <div class=\"colab-df-buttons\">\n",
              "\n",
              "  <div class=\"colab-df-container\">\n",
              "    <button class=\"colab-df-convert\" onclick=\"convertToInteractive('df-012bef6c-2bb4-4298-8763-659a6897a929')\"\n",
              "            title=\"Convert this dataframe to an interactive table.\"\n",
              "            style=\"display:none;\">\n",
              "\n",
              "  <svg xmlns=\"http://www.w3.org/2000/svg\" height=\"24px\" viewBox=\"0 -960 960 960\">\n",
              "    <path d=\"M120-120v-720h720v720H120Zm60-500h600v-160H180v160Zm220 220h160v-160H400v160Zm0 220h160v-160H400v160ZM180-400h160v-160H180v160Zm440 0h160v-160H620v160ZM180-180h160v-160H180v160Zm440 0h160v-160H620v160Z\"/>\n",
              "  </svg>\n",
              "    </button>\n",
              "\n",
              "  <style>\n",
              "    .colab-df-container {\n",
              "      display:flex;\n",
              "      gap: 12px;\n",
              "    }\n",
              "\n",
              "    .colab-df-convert {\n",
              "      background-color: #E8F0FE;\n",
              "      border: none;\n",
              "      border-radius: 50%;\n",
              "      cursor: pointer;\n",
              "      display: none;\n",
              "      fill: #1967D2;\n",
              "      height: 32px;\n",
              "      padding: 0 0 0 0;\n",
              "      width: 32px;\n",
              "    }\n",
              "\n",
              "    .colab-df-convert:hover {\n",
              "      background-color: #E2EBFA;\n",
              "      box-shadow: 0px 1px 2px rgba(60, 64, 67, 0.3), 0px 1px 3px 1px rgba(60, 64, 67, 0.15);\n",
              "      fill: #174EA6;\n",
              "    }\n",
              "\n",
              "    .colab-df-buttons div {\n",
              "      margin-bottom: 4px;\n",
              "    }\n",
              "\n",
              "    [theme=dark] .colab-df-convert {\n",
              "      background-color: #3B4455;\n",
              "      fill: #D2E3FC;\n",
              "    }\n",
              "\n",
              "    [theme=dark] .colab-df-convert:hover {\n",
              "      background-color: #434B5C;\n",
              "      box-shadow: 0px 1px 3px 1px rgba(0, 0, 0, 0.15);\n",
              "      filter: drop-shadow(0px 1px 2px rgba(0, 0, 0, 0.3));\n",
              "      fill: #FFFFFF;\n",
              "    }\n",
              "  </style>\n",
              "\n",
              "    <script>\n",
              "      const buttonEl =\n",
              "        document.querySelector('#df-012bef6c-2bb4-4298-8763-659a6897a929 button.colab-df-convert');\n",
              "      buttonEl.style.display =\n",
              "        google.colab.kernel.accessAllowed ? 'block' : 'none';\n",
              "\n",
              "      async function convertToInteractive(key) {\n",
              "        const element = document.querySelector('#df-012bef6c-2bb4-4298-8763-659a6897a929');\n",
              "        const dataTable =\n",
              "          await google.colab.kernel.invokeFunction('convertToInteractive',\n",
              "                                                    [key], {});\n",
              "        if (!dataTable) return;\n",
              "\n",
              "        const docLinkHtml = 'Like what you see? Visit the ' +\n",
              "          '<a target=\"_blank\" href=https://colab.research.google.com/notebooks/data_table.ipynb>data table notebook</a>'\n",
              "          + ' to learn more about interactive tables.';\n",
              "        element.innerHTML = '';\n",
              "        dataTable['output_type'] = 'display_data';\n",
              "        await google.colab.output.renderOutput(dataTable, element);\n",
              "        const docLink = document.createElement('div');\n",
              "        docLink.innerHTML = docLinkHtml;\n",
              "        element.appendChild(docLink);\n",
              "      }\n",
              "    </script>\n",
              "  </div>\n",
              "\n",
              "\n",
              "<div id=\"df-597d5737-08e2-4b64-8d5d-368c36e87d51\">\n",
              "  <button class=\"colab-df-quickchart\" onclick=\"quickchart('df-597d5737-08e2-4b64-8d5d-368c36e87d51')\"\n",
              "            title=\"Suggest charts\"\n",
              "            style=\"display:none;\">\n",
              "\n",
              "<svg xmlns=\"http://www.w3.org/2000/svg\" height=\"24px\"viewBox=\"0 0 24 24\"\n",
              "     width=\"24px\">\n",
              "    <g>\n",
              "        <path d=\"M19 3H5c-1.1 0-2 .9-2 2v14c0 1.1.9 2 2 2h14c1.1 0 2-.9 2-2V5c0-1.1-.9-2-2-2zM9 17H7v-7h2v7zm4 0h-2V7h2v10zm4 0h-2v-4h2v4z\"/>\n",
              "    </g>\n",
              "</svg>\n",
              "  </button>\n",
              "\n",
              "<style>\n",
              "  .colab-df-quickchart {\n",
              "      --bg-color: #E8F0FE;\n",
              "      --fill-color: #1967D2;\n",
              "      --hover-bg-color: #E2EBFA;\n",
              "      --hover-fill-color: #174EA6;\n",
              "      --disabled-fill-color: #AAA;\n",
              "      --disabled-bg-color: #DDD;\n",
              "  }\n",
              "\n",
              "  [theme=dark] .colab-df-quickchart {\n",
              "      --bg-color: #3B4455;\n",
              "      --fill-color: #D2E3FC;\n",
              "      --hover-bg-color: #434B5C;\n",
              "      --hover-fill-color: #FFFFFF;\n",
              "      --disabled-bg-color: #3B4455;\n",
              "      --disabled-fill-color: #666;\n",
              "  }\n",
              "\n",
              "  .colab-df-quickchart {\n",
              "    background-color: var(--bg-color);\n",
              "    border: none;\n",
              "    border-radius: 50%;\n",
              "    cursor: pointer;\n",
              "    display: none;\n",
              "    fill: var(--fill-color);\n",
              "    height: 32px;\n",
              "    padding: 0;\n",
              "    width: 32px;\n",
              "  }\n",
              "\n",
              "  .colab-df-quickchart:hover {\n",
              "    background-color: var(--hover-bg-color);\n",
              "    box-shadow: 0 1px 2px rgba(60, 64, 67, 0.3), 0 1px 3px 1px rgba(60, 64, 67, 0.15);\n",
              "    fill: var(--button-hover-fill-color);\n",
              "  }\n",
              "\n",
              "  .colab-df-quickchart-complete:disabled,\n",
              "  .colab-df-quickchart-complete:disabled:hover {\n",
              "    background-color: var(--disabled-bg-color);\n",
              "    fill: var(--disabled-fill-color);\n",
              "    box-shadow: none;\n",
              "  }\n",
              "\n",
              "  .colab-df-spinner {\n",
              "    border: 2px solid var(--fill-color);\n",
              "    border-color: transparent;\n",
              "    border-bottom-color: var(--fill-color);\n",
              "    animation:\n",
              "      spin 1s steps(1) infinite;\n",
              "  }\n",
              "\n",
              "  @keyframes spin {\n",
              "    0% {\n",
              "      border-color: transparent;\n",
              "      border-bottom-color: var(--fill-color);\n",
              "      border-left-color: var(--fill-color);\n",
              "    }\n",
              "    20% {\n",
              "      border-color: transparent;\n",
              "      border-left-color: var(--fill-color);\n",
              "      border-top-color: var(--fill-color);\n",
              "    }\n",
              "    30% {\n",
              "      border-color: transparent;\n",
              "      border-left-color: var(--fill-color);\n",
              "      border-top-color: var(--fill-color);\n",
              "      border-right-color: var(--fill-color);\n",
              "    }\n",
              "    40% {\n",
              "      border-color: transparent;\n",
              "      border-right-color: var(--fill-color);\n",
              "      border-top-color: var(--fill-color);\n",
              "    }\n",
              "    60% {\n",
              "      border-color: transparent;\n",
              "      border-right-color: var(--fill-color);\n",
              "    }\n",
              "    80% {\n",
              "      border-color: transparent;\n",
              "      border-right-color: var(--fill-color);\n",
              "      border-bottom-color: var(--fill-color);\n",
              "    }\n",
              "    90% {\n",
              "      border-color: transparent;\n",
              "      border-bottom-color: var(--fill-color);\n",
              "    }\n",
              "  }\n",
              "</style>\n",
              "\n",
              "  <script>\n",
              "    async function quickchart(key) {\n",
              "      const quickchartButtonEl =\n",
              "        document.querySelector('#' + key + ' button');\n",
              "      quickchartButtonEl.disabled = true;  // To prevent multiple clicks.\n",
              "      quickchartButtonEl.classList.add('colab-df-spinner');\n",
              "      try {\n",
              "        const charts = await google.colab.kernel.invokeFunction(\n",
              "            'suggestCharts', [key], {});\n",
              "      } catch (error) {\n",
              "        console.error('Error during call to suggestCharts:', error);\n",
              "      }\n",
              "      quickchartButtonEl.classList.remove('colab-df-spinner');\n",
              "      quickchartButtonEl.classList.add('colab-df-quickchart-complete');\n",
              "    }\n",
              "    (() => {\n",
              "      let quickchartButtonEl =\n",
              "        document.querySelector('#df-597d5737-08e2-4b64-8d5d-368c36e87d51 button');\n",
              "      quickchartButtonEl.style.display =\n",
              "        google.colab.kernel.accessAllowed ? 'block' : 'none';\n",
              "    })();\n",
              "  </script>\n",
              "</div>\n",
              "\n",
              "  <div id=\"id_810f0801-3027-4bc5-9a6b-30da3f9bcc33\">\n",
              "    <style>\n",
              "      .colab-df-generate {\n",
              "        background-color: #E8F0FE;\n",
              "        border: none;\n",
              "        border-radius: 50%;\n",
              "        cursor: pointer;\n",
              "        display: none;\n",
              "        fill: #1967D2;\n",
              "        height: 32px;\n",
              "        padding: 0 0 0 0;\n",
              "        width: 32px;\n",
              "      }\n",
              "\n",
              "      .colab-df-generate:hover {\n",
              "        background-color: #E2EBFA;\n",
              "        box-shadow: 0px 1px 2px rgba(60, 64, 67, 0.3), 0px 1px 3px 1px rgba(60, 64, 67, 0.15);\n",
              "        fill: #174EA6;\n",
              "      }\n",
              "\n",
              "      [theme=dark] .colab-df-generate {\n",
              "        background-color: #3B4455;\n",
              "        fill: #D2E3FC;\n",
              "      }\n",
              "\n",
              "      [theme=dark] .colab-df-generate:hover {\n",
              "        background-color: #434B5C;\n",
              "        box-shadow: 0px 1px 3px 1px rgba(0, 0, 0, 0.15);\n",
              "        filter: drop-shadow(0px 1px 2px rgba(0, 0, 0, 0.3));\n",
              "        fill: #FFFFFF;\n",
              "      }\n",
              "    </style>\n",
              "    <button class=\"colab-df-generate\" onclick=\"generateWithVariable('train')\"\n",
              "            title=\"Generate code using this dataframe.\"\n",
              "            style=\"display:none;\">\n",
              "\n",
              "  <svg xmlns=\"http://www.w3.org/2000/svg\" height=\"24px\"viewBox=\"0 0 24 24\"\n",
              "       width=\"24px\">\n",
              "    <path d=\"M7,19H8.4L18.45,9,17,7.55,7,17.6ZM5,21V16.75L18.45,3.32a2,2,0,0,1,2.83,0l1.4,1.43a1.91,1.91,0,0,1,.58,1.4,1.91,1.91,0,0,1-.58,1.4L9.25,21ZM18.45,9,17,7.55Zm-12,3A5.31,5.31,0,0,0,4.9,8.1,5.31,5.31,0,0,0,1,6.5,5.31,5.31,0,0,0,4.9,4.9,5.31,5.31,0,0,0,6.5,1,5.31,5.31,0,0,0,8.1,4.9,5.31,5.31,0,0,0,12,6.5,5.46,5.46,0,0,0,6.5,12Z\"/>\n",
              "  </svg>\n",
              "    </button>\n",
              "    <script>\n",
              "      (() => {\n",
              "      const buttonEl =\n",
              "        document.querySelector('#id_810f0801-3027-4bc5-9a6b-30da3f9bcc33 button.colab-df-generate');\n",
              "      buttonEl.style.display =\n",
              "        google.colab.kernel.accessAllowed ? 'block' : 'none';\n",
              "\n",
              "      buttonEl.onclick = () => {\n",
              "        google.colab.notebook.generateWithVariable('train');\n",
              "      }\n",
              "      })();\n",
              "    </script>\n",
              "  </div>\n",
              "\n",
              "    </div>\n",
              "  </div>\n"
            ],
            "application/vnd.google.colaboratory.intrinsic+json": {
              "type": "dataframe",
              "variable_name": "train",
              "summary": "{\n  \"name\": \"train\",\n  \"rows\": 80,\n  \"fields\": [\n    {\n      \"column\": \"sepal_length\",\n      \"properties\": {\n        \"dtype\": \"number\",\n        \"std\": 0.965270343190465,\n        \"min\": 4.3,\n        \"max\": 7.9,\n        \"num_unique_values\": 30,\n        \"samples\": [\n          6.1,\n          6.5,\n          6.0\n        ],\n        \"semantic_type\": \"\",\n        \"description\": \"\"\n      }\n    },\n    {\n      \"column\": \"sepal_width\",\n      \"properties\": {\n        \"dtype\": \"number\",\n        \"std\": 0.4239656064388218,\n        \"min\": 2.2,\n        \"max\": 4.4,\n        \"num_unique_values\": 20,\n        \"samples\": [\n          3.5,\n          2.8,\n          2.7\n        ],\n        \"semantic_type\": \"\",\n        \"description\": \"\"\n      }\n    },\n    {\n      \"column\": \"petal_length\",\n      \"properties\": {\n        \"dtype\": \"number\",\n        \"std\": 2.1294855859478115,\n        \"min\": 1.0,\n        \"max\": 6.9,\n        \"num_unique_values\": 28,\n        \"samples\": [\n          6.0,\n          4.8,\n          1.9\n        ],\n        \"semantic_type\": \"\",\n        \"description\": \"\"\n      }\n    },\n    {\n      \"column\": \"petal_width\",\n      \"properties\": {\n        \"dtype\": \"number\",\n        \"std\": 0.9074925462608425,\n        \"min\": 0.1,\n        \"max\": 2.5,\n        \"num_unique_values\": 17,\n        \"samples\": [\n          0.2,\n          0.4,\n          2.5\n        ],\n        \"semantic_type\": \"\",\n        \"description\": \"\"\n      }\n    },\n    {\n      \"column\": \"class_name\",\n      \"properties\": {\n        \"dtype\": \"category\",\n        \"num_unique_values\": 2,\n        \"samples\": [\n          \"Iris-virginica\",\n          \"Iris-setosa\"\n        ],\n        \"semantic_type\": \"\",\n        \"description\": \"\"\n      }\n    },\n    {\n      \"column\": \"code\",\n      \"properties\": {\n        \"dtype\": \"number\",\n        \"std\": 0,\n        \"min\": 0,\n        \"max\": 1,\n        \"num_unique_values\": 2,\n        \"samples\": [\n          1,\n          0\n        ],\n        \"semantic_type\": \"\",\n        \"description\": \"\"\n      }\n    }\n  ]\n}"
            }
          },
          "metadata": {},
          "execution_count": 29
        }
      ]
    },
    {
      "cell_type": "markdown",
      "source": [
        "# Model Training"
      ],
      "metadata": {
        "id": "PUvr0joaOTFA"
      }
    },
    {
      "cell_type": "code",
      "source": [
        "# Initiate the weights\n",
        "init_t = {\n",
        "    \"t1\": 0.5,\n",
        "    \"t2\": 0.8,\n",
        "    \"t3\": 0.7,\n",
        "    \"t4\": 0.3,\n",
        "    \"bias\": 0.5\n",
        "}\n",
        "\n",
        "# Learn Rate\n",
        "learn_rate = 0.1\n",
        "\n",
        "# Threshold\n",
        "threshold = 0.5\n",
        "\n",
        "# Training with 10 Epochs\n",
        "t1, t2, t3, t4, bias, epochs_acc, epochs_mse = epoch(train, init_t, learn_rate, threshold, 10)\n",
        "\n",
        "# Show the Informations\n",
        "print(f\"Final weights:\\nt1: {t1}\\nt2: {t2}\\nt3: {t3}\\nt4: {t4}\\nbias: {bias}\\n\")\n",
        "print(f\"epochs_acc: {epochs_acc}\\nepochs_mse: {epochs_mse}\")"
      ],
      "metadata": {
        "colab": {
          "base_uri": "https://localhost:8080/"
        },
        "id": "ubFMCcR6CI94",
        "outputId": "f285f310-1bdb-4a4a-8f1c-4f8db06c4bff"
      },
      "execution_count": null,
      "outputs": [
        {
          "output_type": "stream",
          "name": "stdout",
          "text": [
            "Final weights:\n",
            "t1: -0.7075568648\n",
            "t2: -0.3706654382\n",
            "t3: 1.4050876874\n",
            "t4: 0.7692673422\n",
            "bias: 0.1732105155\n",
            "\n",
            "epochs_acc: [0.5, 0.5, 0.525, 0.975, 1.0, 1.0, 1.0, 1.0, 1.0, 1.0]\n",
            "epochs_mse: [0.49857542322096143, 0.49745622222844543, 0.4577094639560709, 0.020892050526482582, 0.011211059631918121, 0.007659751718115686, 0.005848660208352867, 0.0046199904744965384, 0.003739272272308479, 0.0030913121425723894]\n"
          ]
        }
      ]
    },
    {
      "cell_type": "code",
      "source": [
        "# Plotting the Accuracy for Each Epoch\n",
        "plt.plot(epochs_acc)\n",
        "plt.title('Accuracy for Each Epoch')\n",
        "plt.xlabel('Epoch')\n",
        "plt.ylabel('Accuracy')\n",
        "plt.show()\n",
        "\n",
        "# Plotting the MSE for Each Epoch\n",
        "plt.plot(epochs_mse)\n",
        "plt.title('MSE for Each Epoch')\n",
        "plt.xlabel('Epoch')\n",
        "plt.ylabel('MSE')\n",
        "plt.show()"
      ],
      "metadata": {
        "colab": {
          "base_uri": "https://localhost:8080/",
          "height": 927
        },
        "id": "QJWBJtw1Nmx6",
        "outputId": "0308cc11-9ab8-4188-8163-4ad21d9d18ad"
      },
      "execution_count": null,
      "outputs": [
        {
          "output_type": "display_data",
          "data": {
            "text/plain": [
              "<Figure size 640x480 with 1 Axes>"
            ],
            "image/png": "[encoded data removed]"
          },
          "metadata": {}
        },
        {
          "output_type": "display_data",
          "data": {
            "text/plain": [
              "<Figure size 640x480 with 1 Axes>"
            ],
            "image/png": "[encoded data removed]"
          },
          "metadata": {}
        }
      ]
    }
  ]
}